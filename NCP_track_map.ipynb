{
 "cells": [
  {
   "cell_type": "code",
   "execution_count": null,
   "metadata": {
    "collapsed": true
   },
   "outputs": [],
   "source": [
    "% matplotlib inline\n",
    "\n",
    "from __future__ import division\n",
    "import numpy as np\n",
    "import pandas as pd\n",
    "import math\n",
    "import matplotlib.pyplot as plt\n",
    "from scipy.spatial.distance import pdist, squareform\n",
    "import time as tm\n",
    "import gsw as sw\n",
    "from scipy.optimize import curve_fit\n",
    "from scipy.stats import chi2\n",
    "\n",
    "import numpy.ma as ma\n",
    "\n",
    "from mpl_toolkits.basemap import Basemap, cm\n",
    "from netCDF4 import Dataset as NetCDFFile\n",
    "\n",
    "from matplotlib import rcParams, rc\n",
    "rcParams.update({'figure.autolayout': True})\n",
    "rcParams.update({'font.family': 'serif'})\n",
    "rcParams.update({'font.serif': 'Times New Roman'})\n",
    "#rc('text', usetex=True)"
   ]
  },
  {
   "cell_type": "code",
   "execution_count": null,
   "metadata": {
    "collapsed": true
   },
   "outputs": [],
   "source": [
    "def checklon(data):\n",
    "    cxx = (data['lon']).values # longitude\n",
    "\n",
    "    # convert all longitude to longitude east\n",
    "    cxx[cxx<0]= 360+cxx[cxx<0];\n",
    "    data['lon_e'] = cxx\n",
    "    cxbew = cxx\n",
    "    cxbew[cxbew>180] = cxbew[cxbew>180]-360   \n",
    "    data['lon'] = cxbew\n",
    "    return data\n",
    "\n",
    "def distance(data):\n",
    "    cruise = pd.unique(data['cruise'])\n",
    "    distances = pd.DataFrame()    \n",
    "    for c in cruise:\n",
    "        temp = pd.DataFrame()\n",
    "        temp = data.loc[(data['cruise']==c), ['cruise','file_time','lon','lat']]\n",
    "        \n",
    "        # calculate distance in km between points\n",
    "        temp['dx'] = np.insert(sw.distance(temp['lon'].values, temp['lat'].values, 0),0,0)/1000\n",
    "        temp['x'] = np.cumsum(temp['dx'])\n",
    "        \n",
    "        if c == cruise[0]:\n",
    "            distances = distances.append(temp)\n",
    "        else:\n",
    "            distances = pd.concat([distances, temp], axis=0)\n",
    "        del temp\n",
    "    data = pd.merge(left = data, right = distances, how='left', left_on=['cruise','file_time','lat','lon'], right_on=['cruise','file_time','lat','lon'])\n",
    "    #return distances\n",
    "\n",
    "    return data  \n",
    "\n",
    "def get_month(row):\n",
    "    return tm.strptime(row['file_time'], '%Y-%m-%d %H:%M:%S')[1] \n",
    "    "
   ]
  },
  {
   "cell_type": "code",
   "execution_count": null,
   "metadata": {
    "collapsed": true
   },
   "outputs": [],
   "source": [
    "# import data\n",
    "\n",
    "indir = '../data/'\n"
   ]
  },
  {
   "cell_type": "code",
   "execution_count": null,
   "metadata": {
    "collapsed": true
   },
   "outputs": [],
   "source": [
    "j = 0\n",
    "\n",
    "thing = binned[:,:,j]\n",
    "Zm = ma.masked_invalid(thing)\n",
    "\n",
    "fig1 = plt.figure(3, figsize=(18,9), dpi = 600)\n",
    "palette = plt.get_cmap('RdYlBu_r', 50)\n",
    "m = Basemap(projection='merc',llcrnrlat=-50,urcrnrlat=60,\\\n",
    "            llcrnrlon=100,urcrnrlon=340,lat_ts=0,resolution='c')\n",
    "\n",
    "m.drawcoastlines()\n",
    "m.drawmapboundary(fill_color='white')\n",
    "m.fillcontinents(color='grey',lake_color='white')\n",
    "#plt.axes([0.025, 0.025, 0.95, 0.95])\n",
    "\n",
    "\n",
    "xm, ym = m(xgrid, ygrid)\n",
    "#cax = m.scatter(xm,ym,s=10, c=all_fronts['level'].values, cmap = palette, lw = 0, vmin = -0.5, vmax =4.5 , alpha = 0.5)\n",
    "m.pcolormesh(xm, ym, (Zm), vmin = 0 ,vmax = 200, cmap = palette)\n",
    "\n",
    "m.drawparallels(np.arange(-50,70,20),labels=[1,1,0,1], fontsize=24)\n",
    "m.drawmeridians(np.arange(-180,180,30),labels=[0,0,0,1], fontsize=24)\n",
    "\n",
    "plt.tick_params(axis='both', which='major', labelsize=24)\n",
    "plt.tick_params(axis='both', which='minor', labelsize=24)\n",
    "plt.xlabel('Longitude', fontsize = 24, labelpad = 40)\n",
    "plt.ylabel('Latitude', fontsize = 24, labelpad = 70)\n",
    "\n",
    "# cb = fig1.colorbar(cax)\n",
    "# cb.ax.tick_params(labelsize=16)\n",
    "#cb.set_label('Seaflow chlorophyll', fontsize=16)\n",
    "cbar = plt.colorbar(pad = 0.08)\n",
    "cbar.ax.tick_params(labelsize=24) \n",
    "#cbar.set_label('Prochlorococcus (10$^6$ cells L$^{-1}$)', fontsize=24, rotation = 90, labelpad = 20)\n",
    "plt.show()\n",
    "\n",
    "#fig1.savefig('../figures/seaflow_shannon_map_4deg.png', bbox_inches='tight', dpi = 600)"
   ]
  }
 ],
 "metadata": {
  "kernelspec": {
   "display_name": "Python 2",
   "language": "python",
   "name": "python2"
  },
  "language_info": {
   "codemirror_mode": {
    "name": "ipython",
    "version": 2
   },
   "file_extension": ".py",
   "mimetype": "text/x-python",
   "name": "python",
   "nbconvert_exporter": "python",
   "pygments_lexer": "ipython2",
   "version": "2.7.11"
  }
 },
 "nbformat": 4,
 "nbformat_minor": 0
}
